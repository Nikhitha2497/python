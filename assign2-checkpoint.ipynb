{
 "cells": [
  {
   "cell_type": "code",
   "execution_count": 80,
   "metadata": {},
   "outputs": [
    {
     "data": {
      "text/plain": [
       "15"
      ]
     },
     "execution_count": 80,
     "metadata": {},
     "output_type": "execute_result"
    }
   ],
   "source": [
    "\"\"\"Write a Python Program to implement your own myreduce() function which works exactly like\n",
    "Python's built-in function reduce()\"\"\"\n",
    "def sum(x,y):\n",
    "    return x+y\n",
    "def my_reduce(func,seq):\n",
    "    first = seq[0]\n",
    "    for i in seq[1:]:\n",
    "         first = func(first,i)\n",
    "    return first\n",
    "list = [1,2,3,4,5]\n",
    "my_reduce(sum,list)\n"
   ]
  },
  {
   "cell_type": "code",
   "execution_count": 81,
   "metadata": {},
   "outputs": [
    {
     "name": "stdout",
     "output_type": "stream",
     "text": [
      "[2, 4]\n"
     ]
    }
   ],
   "source": [
    "\"\"\"Write a Python program to implement your own myfilter() function which works exactly like\n",
    "Python's built-in function filter()\"\"\"\n",
    "def even(n):\n",
    "     if n % 2 == 0:\n",
    "        return True\n",
    "     else:\n",
    "        return False\n",
    "def my_filter(func,seq):\n",
    "      m = []\n",
    "      for i in seq:\n",
    "          l = func(i)\n",
    "          if l == True:\n",
    "             m.append(i)\n",
    "      print(m)\n",
    "list = [1,2,3,4,5]\n",
    "my_filter(even,list)        \n",
    "    "
   ]
  },
  {
   "cell_type": "code",
   "execution_count": 82,
   "metadata": {},
   "outputs": [
    {
     "name": "stdout",
     "output_type": "stream",
     "text": [
      "['x', 'xx', 'xxx', 'xxx', 'y', 'yy', 'yyy', 'yyy', 'z', 'zz', 'zzz', 'zzz']\n"
     ]
    }
   ],
   "source": [
    "\"\"\"list comprehension:['x', 'xx', 'xxx', 'xxx', 'y', 'yy', 'yyy', 'yyy', 'z', 'zz', 'zzz', 'zzz']\"\"\"\n",
    "l = ['x','y','z',]\n",
    "m = []\n",
    "for i in l:\n",
    "    m.append(i)\n",
    "    m.append(i*2)\n",
    "    m.append(i*3)\n",
    "    m.append(i*3)\n",
    "print(m)    "
   ]
  },
  {
   "cell_type": "code",
   "execution_count": 83,
   "metadata": {},
   "outputs": [
    {
     "name": "stdout",
     "output_type": "stream",
     "text": [
      "['x', 'y', 'z', 'xx', 'yy', 'zz', 'xxx', 'yyy', 'zzz', 'xxx', 'yyy', 'zzz']\n"
     ]
    }
   ],
   "source": [
    "\"\"\"list comprehension:['x', 'y', 'z', 'xx', 'yy', 'zz', 'xxx', 'yyy', 'zzz', 'xxx', 'yyy', 'zzz']\"\"\"\n",
    "l = ['x','y','z',]\n",
    "m = []\n",
    "for i in l:\n",
    "    m.append(i)\n",
    "for i in l:\n",
    "    m.append(i*2)\n",
    "for i in l:\n",
    "    m.append(i*3)\n",
    "for i in l:\n",
    "    m.append(i*3)\n",
    "print(m)    \n",
    "\n",
    "\n"
   ]
  },
  {
   "cell_type": "code",
   "execution_count": 84,
   "metadata": {},
   "outputs": [
    {
     "name": "stdout",
     "output_type": "stream",
     "text": [
      "[[2], [3], [4], [3], [4], [5], [4], [5], [6]]\n"
     ]
    }
   ],
   "source": [
    "\"\"\"[[2], [3], [4], [3], [4], [5], [4], [5], [6]]\"\"\"\n",
    "k = [1,2,3]\n",
    "m = []\n",
    "for i in k:\n",
    "    m.append([i+1])\n",
    "    m.append([i+2])\n",
    "    m.append([i+3])\n",
    "print(m)"
   ]
  },
  {
   "cell_type": "code",
   "execution_count": 85,
   "metadata": {},
   "outputs": [
    {
     "name": "stdout",
     "output_type": "stream",
     "text": [
      "[[2, 3, 4, 5], [3, 4, 5, 6], [4, 5, 6, 7], [5, 6, 7, 8]]\n"
     ]
    }
   ],
   "source": [
    "\"\"\"[[2, 3, 4, 5], [3, 4, 5, 6], [4, 5, 6, 7], [5, 6, 7, 8]]\"\"\"\n",
    "k = [1,2,3,4]\n",
    "m = []\n",
    "for i in k:\n",
    "    m.append([i+1,i+2,i+3,i+4])\n",
    "print(m)"
   ]
  },
  {
   "cell_type": "code",
   "execution_count": 86,
   "metadata": {},
   "outputs": [
    {
     "name": "stdout",
     "output_type": "stream",
     "text": [
      "[(1, 1), (2, 1), (3, 1), (1, 2), (2, 2), (3, 2), (1, 3), (2, 3), (3, 3)]\n"
     ]
    }
   ],
   "source": [
    "\"\"\"[(1, 1), (2, 1), (3, 1), (1, 2), (2, 2), (3, 2), (1, 3), (2, 3), (3, 3)]\"\"\"\n",
    "k = [1,2,3]\n",
    "m = []\n",
    "for j in k:\n",
    "   for i in k:\n",
    "      m.append((i,j))\n",
    "print(m)"
   ]
  },
  {
   "cell_type": "code",
   "execution_count": 87,
   "metadata": {},
   "outputs": [
    {
     "name": "stdout",
     "output_type": "stream",
     "text": [
      "false\n"
     ]
    }
   ],
   "source": [
    "\"\"\"Python function which takes a character (i.e. a string of length 1) and returns True if it is\n",
    "a vowel, False otherwise.\"\"\"\n",
    "def check( x ):\n",
    "    if x == ['a','e','i','o','u']:\n",
    "       print(\"true\")\n",
    "    else:\n",
    "        print(\"false\")\n",
    "check('x')"
   ]
  },
  {
   "cell_type": "code",
   "execution_count": 88,
   "metadata": {},
   "outputs": [
    {
     "name": "stdout",
     "output_type": "stream",
     "text": [
      "[1, 2, 3, 4]\n"
     ]
    }
   ],
   "source": [
    "\"\"\"Write a Python program using function concept that maps list of words into a list of integers\n",
    "representing the lengths of the corresponding words .\"\"\"\n",
    "def size(list):\n",
    "       m = [ ]\n",
    "       for i in list:\n",
    "           m.append(len(i))\n",
    "       print(m)\n",
    "list = [\"a\", \"ab\", \"abc\", \"abcd\"]\n",
    "size(list)"
   ]
  },
  {
   "cell_type": "code",
   "execution_count": 89,
   "metadata": {},
   "outputs": [
    {
     "name": "stdout",
     "output_type": "stream",
     "text": [
      "4 2 3\n",
      "4.5\n",
      "2.9047375096555625\n"
     ]
    }
   ],
   "source": [
    "\"\"\"Write a Python Program(with class concepts) to find the area of the triangle using the below\n",
    "formula.\n",
    "area = (s*(s-a)*(s-b)*(s-c)) ** 0.5\n",
    "Function to take the length of the sides of triangle from user should be defined in the parent\n",
    "class and function to calculate the area should be defined in subclass.\n",
    "1.2\"\"\"\n",
    "class sides:\n",
    "    def __init__(self,d,e,f):\n",
    "        self.d = d\n",
    "        self.e = e\n",
    "        self.f = f\n",
    "    def print(self):\n",
    "        print(self.d,self.e,self.f)\n",
    "class areas(sides):\n",
    "     def __init__(self,*args):\n",
    "       super(areas,self).__init__(*args)\n",
    "     def area(self,*args):\n",
    "        a = self.d\n",
    "        b = self.e\n",
    "        c = self.f\n",
    "        s = (a + b + c)/2\n",
    "        print(s)\n",
    "        ar = (s*(s-a)*(s-b)*(s-c)) ** 0.5\n",
    "        print(ar)\n",
    "x = areas(4,2,3)\n",
    "x.print() \n",
    "x.area()"
   ]
  },
  {
   "cell_type": "code",
   "execution_count": 90,
   "metadata": {},
   "outputs": [
    {
     "name": "stdout",
     "output_type": "stream",
     "text": [
      "abcde\n",
      "the longest word is   abcde\n"
     ]
    }
   ],
   "source": [
    "\"\"\"Implement a function longestWord() that takes a list of words and returns the longest one\"\"\"\n",
    "def longestword(list):\n",
    "    list.sort()\n",
    "    print(list[-1])\n",
    "    print(\"the longest word is  \",list[-1])\n",
    "list = [\"a\", \"abcde\", \"abc\", \"abcd\"]\n",
    "longestword(list)\n"
   ]
  },
  {
   "cell_type": "code",
   "execution_count": 91,
   "metadata": {},
   "outputs": [
    {
     "name": "stdout",
     "output_type": "stream",
     "text": [
      "5 abcde\n",
      "4 abcd\n",
      "['abcde', 'abcd']\n"
     ]
    }
   ],
   "source": [
    "\"\"\"Write a function filter_long_words() that takes a list of words and an integer n and returns the list\n",
    "of words that are longer than n.\"\"\"\n",
    "def filter_long_words(list,n):\n",
    "        m = []\n",
    "        for i in list:\n",
    "            if(len(i) > n):\n",
    "                print(len(i),i)\n",
    "                m.append(i)\n",
    "        print(m)\n",
    "list = [\"a\", \"abcde\", \"abc\", \"abcd\"]\n",
    "filter_long_words(list,3)\n",
    "     "
   ]
  },
  {
   "cell_type": "code",
   "execution_count": null,
   "metadata": {},
   "outputs": [],
   "source": [
    "\n",
    "  "
   ]
  },
  {
   "cell_type": "code",
   "execution_count": null,
   "metadata": {},
   "outputs": [],
   "source": []
  },
  {
   "cell_type": "code",
   "execution_count": null,
   "metadata": {},
   "outputs": [],
   "source": []
  },
  {
   "cell_type": "code",
   "execution_count": null,
   "metadata": {},
   "outputs": [],
   "source": []
  }
 ],
 "metadata": {
  "kernelspec": {
   "display_name": "Python 3",
   "language": "python",
   "name": "python3"
  },
  "language_info": {
   "codemirror_mode": {
    "name": "ipython",
    "version": 3
   },
   "file_extension": ".py",
   "mimetype": "text/x-python",
   "name": "python",
   "nbconvert_exporter": "python",
   "pygments_lexer": "ipython3",
   "version": "3.7.4"
  }
 },
 "nbformat": 4,
 "nbformat_minor": 2
}
